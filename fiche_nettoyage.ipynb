{
 "cells": [
  {
   "cell_type": "markdown",
   "id": "22f59ea4",
   "metadata": {},
   "source": [
    "# PYTHON CLEANING PENSE BETE "
   ]
  },
  {
   "cell_type": "markdown",
   "id": "6b3204c9",
   "metadata": {},
   "source": [
    "## par defaut \n",
    "- on appellera chaque tableau \"df, df1, df2, df3...\"\n",
    "- on apellera les colonnes \"col1, col2...\" ou \"newcol\" si une colonne est créée\n",
    "- on apellera les colonnes \"raw1,raw2...\" ou \"newraw\" si une ligne est créée"
   ]
  },
  {
   "cell_type": "markdown",
   "id": "5a49550a",
   "metadata": {},
   "source": [
    "## Pour le tri on aura principalement besoin de :\n",
    " - supprimer les données qui faussent l'analyse (statistiques, graphiques..)\n",
    " - séprarer certaines colonnes ou certains tableaux, en fusionner d'autres\n",
    " - adapter les éléments des colonnes au bon format pour l'analyse"
   ]
  },
  {
   "cell_type": "code",
   "execution_count": null,
   "id": "e2ff15d5",
   "metadata": {},
   "outputs": [],
   "source": [
    "df = pd.read_csv('blabla.csv')   #lire le csv \n",
    "\n",
    "df = df.dropna(how='any',axis=0)   #supprime les lignes avec un élément nul\n",
    "df.drop(df[(df.col1.str.contains('test'))].index)  #supprime toutes les lignes où l'élément de la colonne1 contient 'test'\n",
    "df = df.loc[~df['col1'].str.contains(\"test\")]  #supprime toutes les lignes où l'élément de la colonne1 ne contient pas 'test'\n",
    "df['col1'] = (df.col1.replace('test_','',regex=True)) #remplace tous les éléments de la colonne1 qui contiennent les caractères 'test_' par... rien du tout!\n",
    "df['col1'] = df['col1'].fillna(0)# remplace les valeurs manquantes de la colonne par des \"0\"\n",
    "\n",
    "\n",
    "df[['col1','newcol']] = df['col1'].str.split(\"element_where_to_split\",expand=True)   #sépare les strings d'une colonne a un point donné et renvoie le reste du string dans 'newcol'\n",
    "df3 = pd.merge(df1,df2,how='left',on=[\"col1\"]) #fusionne deux tableaux\n",
    "df['newcol'] = df['col1'].str[:4]  #créé une nouvelle colonne dont chaque élément est composé des premiers caractères des élémentsde col1\n",
    "\n",
    "df['col1'] = pd.to_datetime(df['col1']) #change le type de la col1 en date\n",
    "df = df.sort_values(by=['col1'], ascending=False)  #trie les colonnes du tableau en fonction de la col1, dont les éléments sont triés par ordre décroissant\n"
   ]
  },
  {
   "cell_type": "markdown",
   "id": "0d56a3c4",
   "metadata": {},
   "source": [
    "## Outils d'analyse avant le tri\n",
    "#### utile pour les valeurs aberrantes"
   ]
  },
  {
   "cell_type": "code",
   "execution_count": null,
   "id": "51291228",
   "metadata": {},
   "outputs": [],
   "source": [
    "df.isnull().any() #retourne pour chaque colonne s'il y a un élément nul ou pas\n",
    "df.isnull().sum() #fais la somme des éléments nuls pour chaque colonne\n",
    "clients.describe() #donne des statistiques de base sur le colonnes du tableau\n",
    "\n",
    "df.dtypes #donne le type de chaque colonne\n",
    "list(df.columns.values)  #donne la liste des colonnes du tableau\n",
    "df[\"col1\"].sort_values() #trie les éléments de la col1, ordre croissant par défaut\n"
   ]
  }
 ],
 "metadata": {
  "kernelspec": {
   "display_name": "Python 3 (ipykernel)",
   "language": "python",
   "name": "python3"
  },
  "language_info": {
   "codemirror_mode": {
    "name": "ipython",
    "version": 3
   },
   "file_extension": ".py",
   "mimetype": "text/x-python",
   "name": "python",
   "nbconvert_exporter": "python",
   "pygments_lexer": "ipython3",
   "version": "3.9.7"
  }
 },
 "nbformat": 4,
 "nbformat_minor": 5
}
